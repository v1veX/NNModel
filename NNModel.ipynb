{
  "nbformat": 4,
  "nbformat_minor": 0,
  "metadata": {
    "colab": {
      "provenance": []
    },
    "kernelspec": {
      "name": "python3",
      "display_name": "Python 3"
    },
    "language_info": {
      "name": "python"
    }
  },
  "cells": [
    {
      "cell_type": "markdown",
      "source": [
        "Если что, работаю не в коллабе, а на своем ПК. Обучаю на ГПУ"
      ],
      "metadata": {
        "id": "C1h2th8RKYCm"
      }
    },
    {
      "cell_type": "code",
      "execution_count": null,
      "metadata": {
        "id": "WcUBvXSWKWvU"
      },
      "outputs": [],
      "source": [
        "import matplotlib.pyplot as plt\n",
        "from keras.optimizers import SGD\n",
        "from tensorflow import keras\n",
        "from keras import layers, regularizers\n",
        "from tensorflow.keras.layers import Dense, Flatten, Dropout, Conv2D, MaxPooling2D, BatchNormalization, LeakyReLU\n",
        "from keras.preprocessing.image import ImageDataGenerator\n",
        "import PIL.Image"
      ]
    },
    {
      "cell_type": "code",
      "source": [
        "dataset_path = 'DatasetNew/'\n",
        "img_size = 96\n",
        "batch_size = 32\n",
        "\n",
        "train_datagen = ImageDataGenerator(\n",
        "    rescale=1 / 255.0,\n",
        "    rotation_range=30,\n",
        "    # width_shift_range=0.2,\n",
        "    # height_shift_range=0.2,\n",
        "    # shear_range=0.1,\n",
        "    # zoom_range=0.1,\n",
        "    horizontal_flip=True\n",
        ")\n",
        "\n",
        "val_datagen = ImageDataGenerator(rescale=1 / 255.0)\n",
        "\n",
        "test_datagen = ImageDataGenerator(rescale=1 / 255.0)\n",
        "\n",
        "train_generator = train_datagen.flow_from_directory(\n",
        "    directory=dataset_path + 'train/',\n",
        "    target_size=(img_size, img_size),\n",
        "    color_mode=\"rgb\",\n",
        "    batch_size=batch_size,\n",
        "    class_mode=\"categorical\",\n",
        "    shuffle=True,\n",
        "    seed=42\n",
        ")\n",
        "valid_generator = val_datagen.flow_from_directory(\n",
        "    directory=dataset_path + 'valid/',\n",
        "    target_size=(img_size, img_size),\n",
        "    color_mode=\"rgb\",\n",
        "    batch_size=batch_size,\n",
        "    class_mode=\"categorical\",\n",
        "    shuffle=True,\n",
        "    seed=42\n",
        ")\n",
        "test_generator = test_datagen.flow_from_directory(\n",
        "    directory=dataset_path + 'test/',\n",
        "    target_size=(img_size, img_size),\n",
        "    color_mode=\"rgb\",\n",
        "    batch_size=1,\n",
        "    class_mode=None,\n",
        "    shuffle=False,\n",
        "    seed=42\n",
        ")"
      ],
      "metadata": {
        "id": "2aG0Y_nqKsQy"
      },
      "execution_count": null,
      "outputs": []
    },
    {
      "cell_type": "code",
      "source": [
        "def prepare_model():\n",
        "    act = 'relu'\n",
        "    opt = SGD(learning_rate=0.01, nesterov=True)\n",
        "\n",
        "    model = keras.Sequential([\n",
        "        Conv2D(64, (3, 3), activation=act, input_shape=(img_size, img_size, 3)),\n",
        "        MaxPooling2D((2, 2), strides=2),\n",
        "        BatchNormalization(),\n",
        "\n",
        "        Conv2D(128, (3, 3), activation=act),\n",
        "        MaxPooling2D((2, 2), strides=2),\n",
        "        BatchNormalization(),\n",
        "\n",
        "        Conv2D(256, (3, 3), activation=act),\n",
        "        Conv2D(256, (3, 3), activation=act),\n",
        "        MaxPooling2D((2, 2), strides=2),\n",
        "        BatchNormalization(),\n",
        "\n",
        "        Flatten(),\n",
        "        Dense(32, activation=act, kernel_regularizer=regularizers.l2(0.01)),\n",
        "        Dropout(0.25),\n",
        "        Dense(32, activation=act, kernel_regularizer=regularizers.l2(0.01)),\n",
        "        Dropout(0.4),\n",
        "        Dense(8, activation='softmax')\n",
        "    ])\n",
        "    model.compile(loss=\"categorical_crossentropy\", optimizer=opt, metrics=['accuracy'])\n",
        "    return model\n",
        "\n",
        "\n",
        "epochs = 30\n",
        "model = prepare_model()\n",
        "model.summary()\n",
        "his = model.fit(train_generator, validation_data=valid_generator, epochs=epochs)"
      ],
      "metadata": {
        "id": "n6M0CTrMKz2X"
      },
      "execution_count": null,
      "outputs": []
    },
    {
      "cell_type": "code",
      "source": [
        "acc = his.history['accuracy']\n",
        "val_acc = his.history['val_accuracy']\n",
        "loss = his.history['loss']\n",
        "val_loss = his.history['val_loss']\n",
        "epochs_range = range(epochs)\n",
        "plt.figure(figsize=(8, 8))\n",
        "plt.subplot(1, 2, 1)\n",
        "plt.plot(epochs_range, acc, label='Training Accuracy')\n",
        "plt.plot(epochs_range, val_acc, label='Validation Accuracy')\n",
        "plt.legend(loc='lower right')\n",
        "plt.title('Training and Validation Accuracy')\n",
        "plt.subplot(1, 2, 2)\n",
        "plt.plot(epochs_range, loss, label='Training Loss')\n",
        "plt.plot(epochs_range, val_loss, label='Validation Loss')\n",
        "plt.legend(loc='upper right')\n",
        "plt.title('Training and Validation Loss')\n",
        "plt.show()"
      ],
      "metadata": {
        "id": "8QLkJuH1K__3"
      },
      "execution_count": null,
      "outputs": []
    }
  ]
}